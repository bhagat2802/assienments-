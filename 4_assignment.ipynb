{
 "cells": [
  {
   "cell_type": "markdown",
   "metadata": {},
   "source": [
    "Write a Python Program(with class concepts) to find the area of the triangle using the below formula.\n",
    "area = (s(s-a)(s-b)*(s-c)) ** 0.5\n",
    "Function to take the length of the sides of triangle from user should be defined in the parent class and function to calculate the area should be defined in subclass."
   ]
  },
  {
   "cell_type": "code",
   "execution_count": 1,
   "metadata": {},
   "outputs": [],
   "source": [
    "class Tringale:\n",
    "    def __init__(self):\n",
    "        three_side_tri =['x','y','z']\n",
    "        self.Triside = three_side_tri\n",
    "    \n",
    "    def side_Trinangle(self):\n",
    "        self.side_Trinangle=[input('enter the side' + x + ':') for x in self.Triside]\n",
    "        \n",
    "class Triangle_Area(Tringale):\n",
    "    def __init__(self):\n",
    "        \n",
    "        Tringale.__init__(self)\n",
    "    \n",
    "    def area_of_Tringale(self):\n",
    "        triside = iter(self.side_Trinangle)\n",
    "        x = float(next(triside))\n",
    "        y = float(next(triside))\n",
    "        z = float(next(triside))\n",
    "        \n",
    "        s = (x+y+z)*0.5\n",
    "        Area = (s*(s-x)*(s-y)*(s-z))**0.5   \n",
    "        print(\"The sides of triangle are x=\"+str(x)+\", y=\"+str(y)+\", c=\"+str(z)) \n",
    "        print('the area  of the triangle is {0} '.format(Area))"
   ]
  },
  {
   "cell_type": "code",
   "execution_count": 2,
   "metadata": {},
   "outputs": [],
   "source": [
    "Finding_Area_of_Tri = Triangle_Area()"
   ]
  },
  {
   "cell_type": "code",
   "execution_count": 3,
   "metadata": {},
   "outputs": [
    {
     "name": "stdout",
     "output_type": "stream",
     "text": [
      "enter the sidex:20\n",
      "enter the sidey:20\n",
      "enter the sidez:20\n"
     ]
    }
   ],
   "source": [
    "Finding_Area_of_Tri.side_Trinangle()"
   ]
  },
  {
   "cell_type": "code",
   "execution_count": 4,
   "metadata": {},
   "outputs": [
    {
     "name": "stdout",
     "output_type": "stream",
     "text": [
      "The sides of triangle are x=20.0, y=20.0, c=20.0\n",
      "the area  of the triangle is 173.20508075688772 \n"
     ]
    }
   ],
   "source": [
    "Finding_Area_of_Tri.area_of_Tringale()"
   ]
  },
  {
   "cell_type": "markdown",
   "metadata": {},
   "source": []
  },
  {
   "cell_type": "markdown",
   "metadata": {},
   "source": [
    "Write a function filter_long_words() that takes a list of words and an integer n and returns the list of words that are longer than n"
   ]
  },
  {
   "cell_type": "code",
   "execution_count": 5,
   "metadata": {},
   "outputs": [
    {
     "name": "stdout",
     "output_type": "stream",
     "text": [
      "please enter your words:bhagat,surya\n",
      "enter your number:4\n",
      "\n",
      " The list of longest word, 4 is :\n"
     ]
    },
    {
     "data": {
      "text/plain": [
       "['bhagat', 'surya']"
      ]
     },
     "execution_count": 5,
     "metadata": {},
     "output_type": "execute_result"
    }
   ],
   "source": [
    "def filter_long_words(word,num):\n",
    "    word = [w.strip() for w in word if len(w)>num]\n",
    "    if len(word)>0:\n",
    "        print(\"\\n The list of longest word, \"+str(num)+\" is :\")\n",
    "        return word\n",
    "    else:\n",
    "        return ('no word is no longer thern you the number you sepfic')\n",
    "    \n",
    "    \n",
    "st = input('please enter your words:')\n",
    "num = int(input('enter your number:'))\n",
    "word = list(st.split(','))\n",
    "filter_long_words(word,num)"
   ]
  },
  {
   "cell_type": "code",
   "execution_count": null,
   "metadata": {},
   "outputs": [],
   "source": []
  },
  {
   "cell_type": "markdown",
   "metadata": {},
   "source": [
    "Write a Python program using function concept that maps list of words into a list of integers representing the lengths of the corresponding words . Hint: If a list [ ab,cde,erty] is passed on to the python function output should come as [2,3,4] Here 2,3 and 4 are the lengths of the words in the list."
   ]
  },
  {
   "cell_type": "code",
   "execution_count": 6,
   "metadata": {},
   "outputs": [
    {
     "name": "stdout",
     "output_type": "stream",
     "text": [
      "enter a word:ab,cbe,erty\n",
      "Length of Words are : [2, 3, 4]\n"
     ]
    }
   ],
   "source": [
    "def word_lenght(lis):\n",
    "    return list(map(len,lis))\n",
    "\n",
    "word = list(input('enter a word:').split(\",\"))\n",
    "lis =[y.strip() for y in word]\n",
    "word_len = word_lenght(lis)\n",
    "print('Length of Words are :',word_len)"
   ]
  },
  {
   "cell_type": "code",
   "execution_count": null,
   "metadata": {},
   "outputs": [],
   "source": []
  },
  {
   "cell_type": "markdown",
   "metadata": {},
   "source": [
    "Write a Python function which takes a character (i.e. a string of length 1) and returns True if\n",
    "it is a vowel, False otherwise."
   ]
  },
  {
   "cell_type": "code",
   "execution_count": 1,
   "metadata": {},
   "outputs": [
    {
     "name": "stdout",
     "output_type": "stream",
     "text": [
      "Enter character to check that it is Vowel or not\n",
      "Input Value: i\n",
      "Output Value: True\n"
     ]
    }
   ],
   "source": [
    "def vowel_checker(inputChar):\n",
    "     \n",
    "    return_value=''\n",
    "    if(len(inputChar)==1):\n",
    "        vowel_list=['a','e','i','o','u']\n",
    "        if (inputChar.lower() in vowel_list):\n",
    "            return_value= True\n",
    "        else:\n",
    "            return_value= False\n",
    "    else:\n",
    "        return_value=\"Please enter single character only!\"        \n",
    "    return return_value\n",
    "\n",
    "print(\"Enter character to check that it is Vowel or not\")\n",
    "input_value = input(\"Input Value: \")\n",
    "output_value=vowel_checker(input_value) \n",
    "#Output\n",
    "print(\"Output Value:\",output_value)"
   ]
  },
  {
   "cell_type": "code",
   "execution_count": null,
   "metadata": {},
   "outputs": [],
   "source": []
  }
 ],
 "metadata": {
  "kernelspec": {
   "display_name": "Python 3",
   "language": "python",
   "name": "python3"
  },
  "language_info": {
   "codemirror_mode": {
    "name": "ipython",
    "version": 3
   },
   "file_extension": ".py",
   "mimetype": "text/x-python",
   "name": "python",
   "nbconvert_exporter": "python",
   "pygments_lexer": "ipython3",
   "version": "3.8.5"
  }
 },
 "nbformat": 4,
 "nbformat_minor": 4
}
